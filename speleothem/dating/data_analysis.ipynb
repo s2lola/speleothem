{
 "cells": [
  {
   "attachments": {},
   "cell_type": "markdown",
   "metadata": {},
   "source": [
    "https://arxiv.org/pdf/1605.06065.pdf"
   ]
  },
  {
   "cell_type": "code",
   "execution_count": 27,
   "metadata": {},
   "outputs": [],
   "source": [
    "import pandas as pd\n",
    "from torch import nn\n",
    "import torch"
   ]
  },
  {
   "attachments": {},
   "cell_type": "markdown",
   "metadata": {},
   "source": [
    "# Analyzing sisal v2 data"
   ]
  },
  {
   "cell_type": "code",
   "execution_count": 28,
   "metadata": {},
   "outputs": [],
   "source": [
    "df = pd.read_csv('dating.csv')"
   ]
  },
  {
   "cell_type": "code",
   "execution_count": 29,
   "metadata": {},
   "outputs": [],
   "source": [
    "df_entity = pd.read_csv(\"entity.csv\")\n",
    "df_site = pd.read_csv(\"site.csv\")\n",
    "df_site_entity = df_site.join(df_entity, on=\"site_id\", lsuffix=\"l_site_id\", rsuffix=\"r_site_id\")"
   ]
  },
  {
   "cell_type": "code",
   "execution_count": 30,
   "metadata": {},
   "outputs": [
    {
     "data": {
      "text/plain": [
       "(10230, 72)"
      ]
     },
     "execution_count": 30,
     "metadata": {},
     "output_type": "execute_result"
    }
   ],
   "source": [
    "df = df.join(df_site_entity, on=\"entity_id\", rsuffix=\"_entity\", lsuffix=\"_site\")\n",
    "df.shape"
   ]
  },
  {
   "cell_type": "code",
   "execution_count": 31,
   "metadata": {},
   "outputs": [
    {
     "data": {
      "text/html": [
       "<div>\n",
       "<style scoped>\n",
       "    .dataframe tbody tr th:only-of-type {\n",
       "        vertical-align: middle;\n",
       "    }\n",
       "\n",
       "    .dataframe tbody tr th {\n",
       "        vertical-align: top;\n",
       "    }\n",
       "\n",
       "    .dataframe thead th {\n",
       "        text-align: right;\n",
       "    }\n",
       "</style>\n",
       "<table border=\"1\" class=\"dataframe\">\n",
       "  <thead>\n",
       "    <tr style=\"text-align: right;\">\n",
       "      <th></th>\n",
       "      <th>dating_id</th>\n",
       "      <th>entity_id_site</th>\n",
       "      <th>date_type</th>\n",
       "      <th>depth_dating</th>\n",
       "      <th>dating_thickness</th>\n",
       "      <th>lab_num</th>\n",
       "      <th>material_dated</th>\n",
       "      <th>min_weight</th>\n",
       "      <th>max_weight</th>\n",
       "      <th>uncorr_age</th>\n",
       "      <th>...</th>\n",
       "      <th>organics</th>\n",
       "      <th>fluid_inclusions</th>\n",
       "      <th>mineralogy_petrology_fabric</th>\n",
       "      <th>clumped_isotopes</th>\n",
       "      <th>noble_gas_temperatures</th>\n",
       "      <th>C14</th>\n",
       "      <th>ODL</th>\n",
       "      <th>Mg_Ca</th>\n",
       "      <th>contact</th>\n",
       "      <th>data_DOI_URL</th>\n",
       "    </tr>\n",
       "  </thead>\n",
       "  <tbody>\n",
       "    <tr>\n",
       "      <th>0</th>\n",
       "      <td>150</td>\n",
       "      <td>11</td>\n",
       "      <td>MC-ICP-MS U/Th</td>\n",
       "      <td>1.5</td>\n",
       "      <td>NaN</td>\n",
       "      <td>KS06A-H1</td>\n",
       "      <td>calcite</td>\n",
       "      <td>NaN</td>\n",
       "      <td>NaN</td>\n",
       "      <td>4010.0</td>\n",
       "      <td>...</td>\n",
       "      <td>no</td>\n",
       "      <td>no</td>\n",
       "      <td>no</td>\n",
       "      <td>no</td>\n",
       "      <td>no</td>\n",
       "      <td>no</td>\n",
       "      <td>no</td>\n",
       "      <td>yes</td>\n",
       "      <td>Hai Cheng</td>\n",
       "      <td>https://www.ncdc.noaa.gov/paleo/study/21352</td>\n",
       "    </tr>\n",
       "    <tr>\n",
       "      <th>1</th>\n",
       "      <td>151</td>\n",
       "      <td>11</td>\n",
       "      <td>MC-ICP-MS U/Th</td>\n",
       "      <td>12.8</td>\n",
       "      <td>NaN</td>\n",
       "      <td>KS06A-H2</td>\n",
       "      <td>calcite</td>\n",
       "      <td>NaN</td>\n",
       "      <td>NaN</td>\n",
       "      <td>5580.0</td>\n",
       "      <td>...</td>\n",
       "      <td>no</td>\n",
       "      <td>no</td>\n",
       "      <td>no</td>\n",
       "      <td>no</td>\n",
       "      <td>no</td>\n",
       "      <td>no</td>\n",
       "      <td>no</td>\n",
       "      <td>yes</td>\n",
       "      <td>Hai Cheng</td>\n",
       "      <td>https://www.ncdc.noaa.gov/paleo/study/21352</td>\n",
       "    </tr>\n",
       "    <tr>\n",
       "      <th>2</th>\n",
       "      <td>152</td>\n",
       "      <td>11</td>\n",
       "      <td>MC-ICP-MS U/Th</td>\n",
       "      <td>23.3</td>\n",
       "      <td>NaN</td>\n",
       "      <td>KS06A-H5</td>\n",
       "      <td>calcite</td>\n",
       "      <td>NaN</td>\n",
       "      <td>NaN</td>\n",
       "      <td>7450.0</td>\n",
       "      <td>...</td>\n",
       "      <td>no</td>\n",
       "      <td>no</td>\n",
       "      <td>no</td>\n",
       "      <td>no</td>\n",
       "      <td>no</td>\n",
       "      <td>no</td>\n",
       "      <td>no</td>\n",
       "      <td>yes</td>\n",
       "      <td>Hai Cheng</td>\n",
       "      <td>https://www.ncdc.noaa.gov/paleo/study/21352</td>\n",
       "    </tr>\n",
       "    <tr>\n",
       "      <th>3</th>\n",
       "      <td>153</td>\n",
       "      <td>11</td>\n",
       "      <td>MC-ICP-MS U/Th</td>\n",
       "      <td>25.8</td>\n",
       "      <td>NaN</td>\n",
       "      <td>KS06A-H6</td>\n",
       "      <td>calcite</td>\n",
       "      <td>NaN</td>\n",
       "      <td>NaN</td>\n",
       "      <td>8070.0</td>\n",
       "      <td>...</td>\n",
       "      <td>no</td>\n",
       "      <td>no</td>\n",
       "      <td>no</td>\n",
       "      <td>no</td>\n",
       "      <td>no</td>\n",
       "      <td>no</td>\n",
       "      <td>no</td>\n",
       "      <td>yes</td>\n",
       "      <td>Hai Cheng</td>\n",
       "      <td>https://www.ncdc.noaa.gov/paleo/study/21352</td>\n",
       "    </tr>\n",
       "    <tr>\n",
       "      <th>4</th>\n",
       "      <td>154</td>\n",
       "      <td>11</td>\n",
       "      <td>MC-ICP-MS U/Th</td>\n",
       "      <td>26.5</td>\n",
       "      <td>NaN</td>\n",
       "      <td>KS06A-H7</td>\n",
       "      <td>calcite</td>\n",
       "      <td>NaN</td>\n",
       "      <td>NaN</td>\n",
       "      <td>8410.0</td>\n",
       "      <td>...</td>\n",
       "      <td>no</td>\n",
       "      <td>no</td>\n",
       "      <td>no</td>\n",
       "      <td>no</td>\n",
       "      <td>no</td>\n",
       "      <td>no</td>\n",
       "      <td>no</td>\n",
       "      <td>yes</td>\n",
       "      <td>Hai Cheng</td>\n",
       "      <td>https://www.ncdc.noaa.gov/paleo/study/21352</td>\n",
       "    </tr>\n",
       "  </tbody>\n",
       "</table>\n",
       "<p>5 rows × 72 columns</p>\n",
       "</div>"
      ],
      "text/plain": [
       "   dating_id  entity_id_site       date_type  depth_dating  dating_thickness  \\\n",
       "0        150              11  MC-ICP-MS U/Th           1.5               NaN   \n",
       "1        151              11  MC-ICP-MS U/Th          12.8               NaN   \n",
       "2        152              11  MC-ICP-MS U/Th          23.3               NaN   \n",
       "3        153              11  MC-ICP-MS U/Th          25.8               NaN   \n",
       "4        154              11  MC-ICP-MS U/Th          26.5               NaN   \n",
       "\n",
       "    lab_num material_dated  min_weight  max_weight  uncorr_age  ...  organics  \\\n",
       "0  KS06A-H1        calcite         NaN         NaN      4010.0  ...        no   \n",
       "1  KS06A-H2        calcite         NaN         NaN      5580.0  ...        no   \n",
       "2  KS06A-H5        calcite         NaN         NaN      7450.0  ...        no   \n",
       "3  KS06A-H6        calcite         NaN         NaN      8070.0  ...        no   \n",
       "4  KS06A-H7        calcite         NaN         NaN      8410.0  ...        no   \n",
       "\n",
       "   fluid_inclusions  mineralogy_petrology_fabric clumped_isotopes  \\\n",
       "0                no                           no               no   \n",
       "1                no                           no               no   \n",
       "2                no                           no               no   \n",
       "3                no                           no               no   \n",
       "4                no                           no               no   \n",
       "\n",
       "  noble_gas_temperatures  C14  ODL  Mg_Ca    contact  \\\n",
       "0                     no   no   no    yes  Hai Cheng   \n",
       "1                     no   no   no    yes  Hai Cheng   \n",
       "2                     no   no   no    yes  Hai Cheng   \n",
       "3                     no   no   no    yes  Hai Cheng   \n",
       "4                     no   no   no    yes  Hai Cheng   \n",
       "\n",
       "                                  data_DOI_URL  \n",
       "0  https://www.ncdc.noaa.gov/paleo/study/21352  \n",
       "1  https://www.ncdc.noaa.gov/paleo/study/21352  \n",
       "2  https://www.ncdc.noaa.gov/paleo/study/21352  \n",
       "3  https://www.ncdc.noaa.gov/paleo/study/21352  \n",
       "4  https://www.ncdc.noaa.gov/paleo/study/21352  \n",
       "\n",
       "[5 rows x 72 columns]"
      ]
     },
     "execution_count": 31,
     "metadata": {},
     "output_type": "execute_result"
    }
   ],
   "source": [
    "df.head()"
   ]
  },
  {
   "cell_type": "code",
   "execution_count": 32,
   "metadata": {},
   "outputs": [
    {
     "data": {
      "text/plain": [
       "(10230, 6)"
      ]
     },
     "execution_count": 32,
     "metadata": {},
     "output_type": "execute_result"
    }
   ],
   "source": [
    "df = df.loc[:, [\"depth_dating\", \"corr_age\", \"latitude\", \"longitude\", \"elevation\", \"entity_id_site\"]]\n",
    "df.shape"
   ]
  },
  {
   "cell_type": "code",
   "execution_count": 33,
   "metadata": {},
   "outputs": [
    {
     "data": {
      "text/plain": [
       "(4325, 6)"
      ]
     },
     "execution_count": 33,
     "metadata": {},
     "output_type": "execute_result"
    }
   ],
   "source": [
    "df = df.dropna()\n",
    "df.shape"
   ]
  },
  {
   "cell_type": "code",
   "execution_count": 34,
   "metadata": {},
   "outputs": [
    {
     "data": {
      "text/html": [
       "<div>\n",
       "<style scoped>\n",
       "    .dataframe tbody tr th:only-of-type {\n",
       "        vertical-align: middle;\n",
       "    }\n",
       "\n",
       "    .dataframe tbody tr th {\n",
       "        vertical-align: top;\n",
       "    }\n",
       "\n",
       "    .dataframe thead th {\n",
       "        text-align: right;\n",
       "    }\n",
       "</style>\n",
       "<table border=\"1\" class=\"dataframe\">\n",
       "  <thead>\n",
       "    <tr style=\"text-align: right;\">\n",
       "      <th></th>\n",
       "      <th>depth_dating</th>\n",
       "      <th>corr_age</th>\n",
       "      <th>latitude</th>\n",
       "      <th>longitude</th>\n",
       "      <th>elevation</th>\n",
       "      <th>entity_id_site</th>\n",
       "    </tr>\n",
       "  </thead>\n",
       "  <tbody>\n",
       "    <tr>\n",
       "      <th>0</th>\n",
       "      <td>1.5</td>\n",
       "      <td>3800.0</td>\n",
       "      <td>25.2622</td>\n",
       "      <td>91.8817</td>\n",
       "      <td>1160.0</td>\n",
       "      <td>11</td>\n",
       "    </tr>\n",
       "    <tr>\n",
       "      <th>1</th>\n",
       "      <td>12.8</td>\n",
       "      <td>5490.0</td>\n",
       "      <td>25.2622</td>\n",
       "      <td>91.8817</td>\n",
       "      <td>1160.0</td>\n",
       "      <td>11</td>\n",
       "    </tr>\n",
       "    <tr>\n",
       "      <th>2</th>\n",
       "      <td>23.3</td>\n",
       "      <td>7320.0</td>\n",
       "      <td>25.2622</td>\n",
       "      <td>91.8817</td>\n",
       "      <td>1160.0</td>\n",
       "      <td>11</td>\n",
       "    </tr>\n",
       "    <tr>\n",
       "      <th>3</th>\n",
       "      <td>25.8</td>\n",
       "      <td>7960.0</td>\n",
       "      <td>25.2622</td>\n",
       "      <td>91.8817</td>\n",
       "      <td>1160.0</td>\n",
       "      <td>11</td>\n",
       "    </tr>\n",
       "    <tr>\n",
       "      <th>4</th>\n",
       "      <td>26.5</td>\n",
       "      <td>8310.0</td>\n",
       "      <td>25.2622</td>\n",
       "      <td>91.8817</td>\n",
       "      <td>1160.0</td>\n",
       "      <td>11</td>\n",
       "    </tr>\n",
       "  </tbody>\n",
       "</table>\n",
       "</div>"
      ],
      "text/plain": [
       "   depth_dating  corr_age  latitude  longitude  elevation  entity_id_site\n",
       "0           1.5    3800.0   25.2622    91.8817     1160.0              11\n",
       "1          12.8    5490.0   25.2622    91.8817     1160.0              11\n",
       "2          23.3    7320.0   25.2622    91.8817     1160.0              11\n",
       "3          25.8    7960.0   25.2622    91.8817     1160.0              11\n",
       "4          26.5    8310.0   25.2622    91.8817     1160.0              11"
      ]
     },
     "execution_count": 34,
     "metadata": {},
     "output_type": "execute_result"
    }
   ],
   "source": [
    "df.head()"
   ]
  },
  {
   "cell_type": "code",
   "execution_count": 35,
   "metadata": {},
   "outputs": [],
   "source": [
    "df.to_csv(\"training_data.csv\", index=False)"
   ]
  }
 ],
 "metadata": {
  "kernelspec": {
   "display_name": "speleothem-D0j3gjp0-py3.9",
   "language": "python",
   "name": "python3"
  },
  "language_info": {
   "codemirror_mode": {
    "name": "ipython",
    "version": 3
   },
   "file_extension": ".py",
   "mimetype": "text/x-python",
   "name": "python",
   "nbconvert_exporter": "python",
   "pygments_lexer": "ipython3",
   "version": "3.9.12"
  },
  "orig_nbformat": 4,
  "vscode": {
   "interpreter": {
    "hash": "88385cb4d3649893f5ed111600523dce48bee70e0a73c9054031d68280bb1b33"
   }
  }
 },
 "nbformat": 4,
 "nbformat_minor": 2
}
