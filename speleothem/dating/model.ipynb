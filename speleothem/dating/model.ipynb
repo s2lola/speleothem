{
 "cells": [
  {
   "attachments": {},
   "cell_type": "markdown",
   "metadata": {},
   "source": [
    "we can use this paper with we want train for only one speleothem\n",
    "https://arxiv.org/pdf/1605.06065.pdf"
   ]
  },
  {
   "cell_type": "code",
   "execution_count": 33,
   "metadata": {},
   "outputs": [],
   "source": [
    "import pandas as pd\n",
    "from torch import nn\n",
    "import torch\n",
    "from torch.utils.data import Dataset, random_split, DataLoader\n",
    "from sklearn.preprocessing import StandardScaler"
   ]
  },
  {
   "cell_type": "markdown",
   "metadata": {},
   "source": [
    "# Data"
   ]
  },
  {
   "cell_type": "code",
   "execution_count": 34,
   "metadata": {},
   "outputs": [],
   "source": [
    "class SpeleothemDating(Dataset):\n",
    "    def __init__(self, annotations_file, normalize=True):\n",
    "        self.speleothem = pd.read_csv(annotations_file)\n",
    "        \n",
    "        if normalize:\n",
    "            self.normalize()\n",
    "\n",
    "        self.x_label = [\"depth_dating\", \"latitude\", \"longitude\", \"elevation\", \"entity_id_site\"]\n",
    "        self.y_label = [\"corr_age\"]\n",
    "        \n",
    "        x = self.speleothem.loc[:, self.x_label].values\n",
    "        y = self.speleothem.loc[:, self.y_label].values\n",
    "        \n",
    "        self.x_train = torch.tensor(x, dtype=torch.float32)\n",
    "        self.y_train = torch.tensor(y, dtype=torch.float32)\n",
    "\n",
    "    def __len__(self):\n",
    "        return len(self.speleothem)\n",
    "\n",
    "    def __getitem__(self, idx):\n",
    "        return self.x_train[idx], self.y_train[idx]\n",
    "    \n",
    "    def normalize(self):\n",
    "        std_scaler = StandardScaler()\n",
    "        self.speleothem = pd.DataFrame(std_scaler.fit_transform(self.speleothem), columns=self.speleothem.columns)\n"
   ]
  },
  {
   "cell_type": "code",
   "execution_count": 35,
   "metadata": {},
   "outputs": [],
   "source": [
    "speleothem = SpeleothemDating(\"training_data.csv\")\n",
    "speleothem.normalize()"
   ]
  },
  {
   "cell_type": "code",
   "execution_count": 36,
   "metadata": {},
   "outputs": [],
   "source": [
    "train_size = int(0.8 * len(speleothem))\n",
    "test_size = len(speleothem) - train_size\n",
    "train_dataset, test_dataset = random_split(speleothem, [train_size, test_size])\n",
    "\n",
    "train_dataloader = DataLoader(train_dataset, batch_size=16, shuffle=True)\n",
    "test_dataloader = DataLoader(test_dataset, batch_size=16, shuffle=True)"
   ]
  },
  {
   "cell_type": "code",
   "execution_count": 37,
   "metadata": {},
   "outputs": [
    {
     "data": {
      "text/plain": [
       "(tensor([[-0.6689, -1.9249,  1.7576, -0.8928,  0.2248],\n",
       "         [-0.6480,  0.9289, -0.2998,  1.7421, -1.0538],\n",
       "         [-0.6613,  1.2524, -2.0357, -0.8928,  0.9454],\n",
       "         [-0.5985, -0.1049, -1.4917, -0.2323,  0.5037],\n",
       "         [ 1.3698, -1.2136,  0.1790, -0.9448, -1.3211],\n",
       "         [-0.0553,  0.3425, -1.6055, -0.5752, -1.1003],\n",
       "         [-0.3296,  0.8161, -1.5272, -0.5049,  0.5153],\n",
       "         [-0.7085,  1.0446, -0.3320, -0.7522, -1.5071],\n",
       "         [-0.6463, -2.0125,  1.7877, -0.1620,  1.6195],\n",
       "         [-0.6740, -2.2351,  1.6668, -0.6398,  0.1783],\n",
       "         [-0.7123, -1.1026, -0.9076, -0.0496, -0.9724],\n",
       "         [-0.3481,  0.9885, -0.1435, -0.5302,  1.5149],\n",
       "         [ 0.3339,  0.1154,  0.3095,  0.1190,  0.0737],\n",
       "         [ 1.0739, -2.0747,  1.7257, -0.8928,  1.6428],\n",
       "         [-0.2170, -0.1049, -1.4917, -0.2323,  0.5037],\n",
       "         [-0.1446, -1.1120, -0.9004, -0.2182,  0.9803]]),\n",
       " tensor([[-0.4995],\n",
       "         [-0.5379],\n",
       "         [-0.6690],\n",
       "         [-0.6707],\n",
       "         [-0.2432],\n",
       "         [-0.5484],\n",
       "         [-0.6579],\n",
       "         [ 0.4083],\n",
       "         [-0.3566],\n",
       "         [ 0.8249],\n",
       "         [-0.6217],\n",
       "         [ 0.6626],\n",
       "         [ 3.8467],\n",
       "         [-0.6504],\n",
       "         [-0.6661],\n",
       "         [-0.6015]]))"
      ]
     },
     "execution_count": 37,
     "metadata": {},
     "output_type": "execute_result"
    }
   ],
   "source": [
    "train_features, train_labels = next(iter(train_dataloader))\n",
    "train_features, train_labels"
   ]
  },
  {
   "cell_type": "markdown",
   "metadata": {},
   "source": [
    "# Model"
   ]
  },
  {
   "cell_type": "code",
   "execution_count": null,
   "metadata": {},
   "outputs": [],
   "source": [
    "class MultipleRegression(nn.Module):\n",
    "    def __init__(self, num_features):\n",
    "        super(MultipleRegression, self).__init__()\n",
    "        \n",
    "        self.layer_1 = nn.Linear(num_features, 16)\n",
    "        self.layer_2 = nn.Linear(16, 32)\n",
    "        self.layer_3 = nn.Linear(32, 16)\n",
    "        self.layer_out = nn.Linear(16, 1)\n",
    "        \n",
    "        self.relu = nn.ReLU()\n",
    "\n",
    "    def forward(self, inputs):\n",
    "        x = self.relu(self.layer_1(inputs))\n",
    "        x = self.relu(self.layer_2(x))\n",
    "        x = self.relu(self.layer_3(x))\n",
    "        x = self.layer_out(x)\n",
    "\n",
    "        return x"
   ]
  },
  {
   "cell_type": "code",
   "execution_count": null,
   "metadata": {},
   "outputs": [],
   "source": [
    "model = MultipleRegression(num_features=1)"
   ]
  },
  {
   "cell_type": "code",
   "execution_count": null,
   "metadata": {},
   "outputs": [],
   "source": [
    "loss_fn = nn.CrossEntropyLoss()\n",
    "optimizer = torch.optim.SGD(model.parameters(), lr=1e-3)"
   ]
  },
  {
   "cell_type": "code",
   "execution_count": null,
   "metadata": {},
   "outputs": [],
   "source": [
    "device = torch.device(\"cuda:0\" if torch.cuda.is_available() else \"cpu\")"
   ]
  },
  {
   "cell_type": "code",
   "execution_count": null,
   "metadata": {},
   "outputs": [],
   "source": [
    "def train(dataloader, model, loss_fn, optimizer):\n",
    "    size = len(dataloader.dataset)\n",
    "    model.train()\n",
    "    for batch, (X, y) in enumerate(dataloader):\n",
    "        X, y = X.to(device), y.to(device)\n",
    "\n",
    "        # Compute prediction error\n",
    "        pred = model(X)\n",
    "        loss = loss_fn(pred, y)\n",
    "\n",
    "        # Backpropagation\n",
    "        optimizer.zero_grad()\n",
    "        loss.backward()\n",
    "        optimizer.step()\n",
    "\n",
    "        if batch % 100 == 0:\n",
    "            loss, current = loss.item(), (batch + 1) * len(X)\n",
    "            print(f\"loss: {loss:>7f}  [{current:>5d}/{size:>5d}]\")"
   ]
  },
  {
   "cell_type": "code",
   "execution_count": null,
   "metadata": {},
   "outputs": [],
   "source": [
    "def test(dataloader, model, loss_fn):\n",
    "    size = len(dataloader.dataset)\n",
    "    num_batches = len(dataloader)\n",
    "    model.eval()\n",
    "    test_loss, correct = 0, 0\n",
    "    with torch.no_grad():\n",
    "        for X, y in dataloader:\n",
    "            X, y = X.to(device), y.to(device)\n",
    "            pred = model(X)\n",
    "            test_loss += loss_fn(pred, y).item()\n",
    "            correct += (pred.argmax(1) == y).type(torch.float).sum().item()\n",
    "    test_loss /= num_batches\n",
    "    correct /= size\n",
    "    print(f\"Test Error: \\n Accuracy: {(100*correct):>0.1f}%, Avg loss: {test_loss:>8f} \\n\")"
   ]
  },
  {
   "cell_type": "code",
   "execution_count": null,
   "metadata": {},
   "outputs": [],
   "source": [
    "epochs = 5\n",
    "for t in range(epochs):\n",
    "    print(f\"Epoch {t+1}\\n-------------------------------\")\n",
    "    train(train_dataloader, model, loss_fn, optimizer)\n",
    "    test(test_dataloader, model, loss_fn)\n",
    "print(\"Done!\")"
   ]
  }
 ],
 "metadata": {
  "kernelspec": {
   "display_name": "speleothem-D0j3gjp0-py3.9",
   "language": "python",
   "name": "python3"
  },
  "language_info": {
   "codemirror_mode": {
    "name": "ipython",
    "version": 3
   },
   "file_extension": ".py",
   "mimetype": "text/x-python",
   "name": "python",
   "nbconvert_exporter": "python",
   "pygments_lexer": "ipython3",
   "version": "3.9.12"
  },
  "orig_nbformat": 4,
  "vscode": {
   "interpreter": {
    "hash": "88385cb4d3649893f5ed111600523dce48bee70e0a73c9054031d68280bb1b33"
   }
  }
 },
 "nbformat": 4,
 "nbformat_minor": 2
}
