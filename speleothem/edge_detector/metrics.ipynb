{
 "cells": [
  {
   "cell_type": "code",
   "execution_count": 1,
   "metadata": {},
   "outputs": [],
   "source": [
    "import pandas as pd\n",
    "from utils import search_best_parameters_database, count_canny\n",
    "from sklearn.metrics import mean_absolute_error"
   ]
  },
  {
   "cell_type": "code",
   "execution_count": 2,
   "metadata": {},
   "outputs": [
    {
     "data": {
      "text/plain": [
       "(10, 20, 2.1936130275974026)"
      ]
     },
     "execution_count": 2,
     "metadata": {},
     "output_type": "execute_result"
    }
   ],
   "source": [
    "search_best_parameters_database(\"../image/dbe/database_1600.csv\", \"../image/dbe/classify_1600\")"
   ]
  },
  {
   "cell_type": "code",
   "execution_count": 6,
   "metadata": {},
   "outputs": [],
   "source": [
    "df = pd.read_csv(\"../image/dbe/database_1600.csv\")\n",
    "\n",
    "def count_method(x):\n",
    "    file = f\"../image/dbe/classify_1600/{x}.png\"\n",
    "    return count_canny(file, 10, 20)\n",
    "\n",
    "df[\"count_method\"] = df.file.apply(count_method)\n",
    "df[\"error\"] = df[\"count_method\"] - df[\"count\"]\n",
    "\n",
    "error = mean_absolute_error(df[\"count\"].to_numpy(), df[\"count_method\"].to_numpy())"
   ]
  },
  {
   "cell_type": "code",
   "execution_count": 7,
   "metadata": {},
   "outputs": [
    {
     "data": {
      "text/plain": [
       "count    77.000000\n",
       "mean      0.095805\n",
       "std       2.538112\n",
       "min      -4.818359\n",
       "25%      -1.998047\n",
       "50%      -0.013672\n",
       "75%       2.292969\n",
       "max       5.191406\n",
       "Name: error, dtype: float64"
      ]
     },
     "execution_count": 7,
     "metadata": {},
     "output_type": "execute_result"
    }
   ],
   "source": [
    "df.error.describe()"
   ]
  },
  {
   "cell_type": "code",
   "execution_count": null,
   "metadata": {},
   "outputs": [],
   "source": []
  }
 ],
 "metadata": {
  "kernelspec": {
   "display_name": "speleothem-D0j3gjp0-py3.9",
   "language": "python",
   "name": "python3"
  },
  "language_info": {
   "codemirror_mode": {
    "name": "ipython",
    "version": 3
   },
   "file_extension": ".py",
   "mimetype": "text/x-python",
   "name": "python",
   "nbconvert_exporter": "python",
   "pygments_lexer": "ipython3",
   "version": "3.9.12 (main, Apr  5 2022, 06:56:58) \n[GCC 7.5.0]"
  },
  "orig_nbformat": 4,
  "vscode": {
   "interpreter": {
    "hash": "88385cb4d3649893f5ed111600523dce48bee70e0a73c9054031d68280bb1b33"
   }
  }
 },
 "nbformat": 4,
 "nbformat_minor": 2
}
