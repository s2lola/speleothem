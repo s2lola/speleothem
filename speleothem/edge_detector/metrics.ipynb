{
 "cells": [
  {
   "cell_type": "code",
   "execution_count": 1,
   "metadata": {},
   "outputs": [],
   "source": [
    "import pandas as pd\n",
    "from utils import search_best_parameters_database, count_canny\n",
    "from sklearn.metrics import mean_absolute_error\n",
    "import matplotlib.pyplot as plt\n",
    "import numpy as np"
   ]
  },
  {
   "attachments": {},
   "cell_type": "markdown",
   "metadata": {},
   "source": [
    "# Counting layers with image size 256x256"
   ]
  },
  {
   "cell_type": "code",
   "execution_count": 1,
   "metadata": {},
   "outputs": [
    {
     "ename": "NameError",
     "evalue": "name 'search_best_parameters_database' is not defined",
     "output_type": "error",
     "traceback": [
      "\u001b[0;31m---------------------------------------------------------------------------\u001b[0m",
      "\u001b[0;31mNameError\u001b[0m                                 Traceback (most recent call last)",
      "Cell \u001b[0;32mIn[1], line 1\u001b[0m\n\u001b[0;32m----> 1\u001b[0m search_best_parameters_database(\u001b[39m\"\u001b[39m\u001b[39m../image/dbe/database_1600.csv\u001b[39m\u001b[39m\"\u001b[39m, \u001b[39m\"\u001b[39m\u001b[39m../image/dbe/classify_1600\u001b[39m\u001b[39m\"\u001b[39m)\n",
      "\u001b[0;31mNameError\u001b[0m: name 'search_best_parameters_database' is not defined"
     ]
    }
   ],
   "source": [
    "search_best_parameters_database(\"../image/dbe/database_1600.csv\", \"../image/dbe/classify_1600\")"
   ]
  },
  {
   "cell_type": "code",
   "execution_count": 14,
   "metadata": {},
   "outputs": [],
   "source": [
    "df = pd.read_csv(\"../image/dbe/database_1600.csv\")\n",
    "\n",
    "def count_method(x):\n",
    "    file = f\"../image/dbe/classify_1600/{x}.png\"\n",
    "    return count_canny(file, 10, 20)\n",
    "\n",
    "df[\"count_method\"] = df.file.apply(count_method)\n",
    "df[\"error\"] = df[\"count\"] - df[\"count_method\"]\n",
    "df[\"error_abs\"] = (df[\"count_method\"] - df[\"count\"]).abs()\n",
    "\n",
    "error = mean_absolute_error(df[\"count\"].to_numpy(), df[\"count_method\"].to_numpy())"
   ]
  },
  {
   "cell_type": "code",
   "execution_count": 15,
   "metadata": {},
   "outputs": [
    {
     "data": {
      "text/plain": [
       "0.2077922077922078"
      ]
     },
     "execution_count": 15,
     "metadata": {},
     "output_type": "execute_result"
    }
   ],
   "source": [
    "df[df.error_abs <= 1].shape[0] / df.shape[0]"
   ]
  },
  {
   "cell_type": "code",
   "execution_count": 16,
   "metadata": {},
   "outputs": [
    {
     "data": {
      "text/plain": [
       "count    77.000000\n",
       "mean      2.193613\n",
       "std       1.255412\n",
       "min       0.013672\n",
       "25%       1.302734\n",
       "50%       2.281250\n",
       "75%       2.974609\n",
       "max       5.191406\n",
       "Name: error_abs, dtype: float64"
      ]
     },
     "execution_count": 16,
     "metadata": {},
     "output_type": "execute_result"
    }
   ],
   "source": [
    "df.error_abs.describe()"
   ]
  },
  {
   "cell_type": "code",
   "execution_count": 7,
   "metadata": {},
   "outputs": [
    {
     "data": {
      "image/png": "[encoded data removed]",
      "text/plain": [
       "<Figure size 640x480 with 1 Axes>"
      ]
     },
     "metadata": {},
     "output_type": "display_data"
    }
   ],
   "source": [
    "quantiles = np.arange(0, 1, 0.1)\n",
    "y = [df.error_abs.quantile(i) for i in quantiles]\n",
    "\n",
    "plt.plot(quantiles*100, y)\n",
    "plt.ylabel(\"quantidade de arestas erradas\")\n",
    "plt.xlabel(\"porcentagem\")\n",
    "plt.show()\n"
   ]
  },
  {
   "attachments": {},
   "cell_type": "markdown",
   "metadata": {},
   "source": [
    "# Counting layers with image size 256x10"
   ]
  },
  {
   "cell_type": "code",
   "execution_count": 2,
   "metadata": {},
   "outputs": [
    {
     "data": {
      "text/plain": [
       "(10, 11, 1.974025974025974)"
      ]
     },
     "execution_count": 2,
     "metadata": {},
     "output_type": "execute_result"
    }
   ],
   "source": [
    "search_best_parameters_database(\"../image/dbe/database_1600.csv\", \"../image/dbe/classify_1600\", center=True)"
   ]
  },
  {
   "cell_type": "code",
   "execution_count": 3,
   "metadata": {},
   "outputs": [],
   "source": [
    "df = pd.read_csv(\"../image/dbe/database_1600.csv\")\n",
    "\n",
    "def count_method(x):\n",
    "    file = f\"../image/dbe/classify_1600/{x}.png\"\n",
    "    return count_canny(file, 10, 11, center=True)\n",
    "\n",
    "df[\"count_method\"] = df.file.apply(count_method)\n",
    "df[\"error\"] = df[\"count\"] - df[\"count_method\"]\n",
    "df[\"error_abs\"] = (df[\"count_method\"] - df[\"count\"]).abs()\n",
    "\n",
    "error = mean_absolute_error(df[\"count\"].to_numpy(), df[\"count_method\"].to_numpy())"
   ]
  },
  {
   "cell_type": "code",
   "execution_count": 4,
   "metadata": {},
   "outputs": [
    {
     "data": {
      "text/plain": [
       "0.2077922077922078"
      ]
     },
     "execution_count": 4,
     "metadata": {},
     "output_type": "execute_result"
    }
   ],
   "source": [
    "#usando 20 pixel no meio\n",
    "df[df.error_abs <= 1].shape[0] / df.shape[0]"
   ]
  },
  {
   "cell_type": "code",
   "execution_count": 13,
   "metadata": {},
   "outputs": [
    {
     "data": {
      "text/plain": [
       "0.3116883116883117"
      ]
     },
     "execution_count": 13,
     "metadata": {},
     "output_type": "execute_result"
    }
   ],
   "source": [
    "# usando 5 pixels no meio\n",
    "df[df.error_abs <= 1].shape[0] / df.shape[0]"
   ]
  },
  {
   "cell_type": "code",
   "execution_count": 8,
   "metadata": {},
   "outputs": [
    {
     "data": {
      "text/plain": [
       "0.35064935064935066"
      ]
     },
     "execution_count": 8,
     "metadata": {},
     "output_type": "execute_result"
    }
   ],
   "source": [
    "# usando 1 pixel no meio\n",
    "df[df.error_abs <= 1].shape[0] / df.shape[0]"
   ]
  },
  {
   "cell_type": "code",
   "execution_count": 5,
   "metadata": {},
   "outputs": [
    {
     "data": {
      "text/plain": [
       "count    77.000000\n",
       "mean      2.436364\n",
       "std       1.584477\n",
       "min       0.250000\n",
       "25%       1.300000\n",
       "50%       2.100000\n",
       "75%       3.150000\n",
       "max       7.450000\n",
       "Name: error_abs, dtype: float64"
      ]
     },
     "execution_count": 5,
     "metadata": {},
     "output_type": "execute_result"
    }
   ],
   "source": [
    "df.error_abs.describe()"
   ]
  },
  {
   "cell_type": "code",
   "execution_count": 9,
   "metadata": {},
   "outputs": [
    {
     "data": {
      "text/plain": [
       "count    77.000000\n",
       "mean      2.496753\n",
       "std       1.841474\n",
       "min       0.125000\n",
       "25%       0.875000\n",
       "50%       2.250000\n",
       "75%       3.625000\n",
       "max       8.000000\n",
       "Name: error_abs, dtype: float64"
      ]
     },
     "execution_count": 9,
     "metadata": {},
     "output_type": "execute_result"
    }
   ],
   "source": [
    "df.error_abs.describe()"
   ]
  },
  {
   "cell_type": "code",
   "execution_count": 5,
   "metadata": {},
   "outputs": [
    {
     "data": {
      "text/plain": [
       "count    77.000000\n",
       "mean      1.974026\n",
       "std       1.538745\n",
       "min       0.000000\n",
       "25%       0.500000\n",
       "50%       1.500000\n",
       "75%       3.000000\n",
       "max       6.500000\n",
       "Name: error_abs, dtype: float64"
      ]
     },
     "execution_count": 5,
     "metadata": {},
     "output_type": "execute_result"
    }
   ],
   "source": [
    "df.error_abs.describe()"
   ]
  },
  {
   "cell_type": "code",
   "execution_count": 6,
   "metadata": {},
   "outputs": [
    {
     "data": {
      "image/png": "[encoded data removed]",
      "text/plain": [
       "<Figure size 640x480 with 1 Axes>"
      ]
     },
     "metadata": {},
     "output_type": "display_data"
    }
   ],
   "source": [
    "quantiles = np.arange(0, 1, 0.1)\n",
    "y = [df.error_abs.quantile(i) for i in quantiles]\n",
    "\n",
    "plt.plot(quantiles*100, y)\n",
    "plt.ylabel(\"quantidade de arestas erradas\")\n",
    "plt.xlabel(\"porcentagem\")\n",
    "plt.show()\n"
   ]
  }
 ],
 "metadata": {
  "kernelspec": {
   "display_name": "speleothem-D0j3gjp0-py3.9",
   "language": "python",
   "name": "python3"
  },
  "language_info": {
   "codemirror_mode": {
    "name": "ipython",
    "version": 3
   },
   "file_extension": ".py",
   "mimetype": "text/x-python",
   "name": "python",
   "nbconvert_exporter": "python",
   "pygments_lexer": "ipython3",
   "version": "3.9.12"
  },
  "orig_nbformat": 4,
  "vscode": {
   "interpreter": {
    "hash": "88385cb4d3649893f5ed111600523dce48bee70e0a73c9054031d68280bb1b33"
   }
  }
 },
 "nbformat": 4,
 "nbformat_minor": 2
}
