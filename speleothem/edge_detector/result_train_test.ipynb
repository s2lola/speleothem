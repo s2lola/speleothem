{
 "cells": [
  {
   "cell_type": "code",
   "execution_count": 1,
   "metadata": {},
   "outputs": [],
   "source": [
    "import pandas as pd\n",
    "from utils import count_canny, search_best_parameters_df\n",
    "from sklearn.metrics import mean_absolute_error\n",
    "import matplotlib.pyplot as plt\n",
    "import numpy as np\n",
    "from sklearn.model_selection import train_test_split"
   ]
  },
  {
   "cell_type": "code",
   "execution_count": 6,
   "metadata": {},
   "outputs": [],
   "source": [
    "def result(df, image, min, max):\n",
    "    def count_method(x):\n",
    "        file = image + f\"/{x}.png\"\n",
    "        return count_canny(file, min, max, center=True)\n",
    "\n",
    "    df[\"count_method\"] = df.file.apply(count_method)\n",
    "    df[\"error\"] = df[\"count\"] - df[\"count_method\"]\n",
    "    df[\"error_abs\"] = (df[\"count_method\"] - df[\"count\"]).abs()\n",
    "    \n",
    "    return df"
   ]
  },
  {
   "cell_type": "code",
   "execution_count": 8,
   "metadata": {},
   "outputs": [],
   "source": [
    "def show_results(df):\n",
    "    lim_0 = df[df.error_abs < 1].shape[0] / df.shape[0]\n",
    "    lim_1 = df[df.error_abs <= 1].shape[0] / df.shape[0]\n",
    "    lim_2 = df[df.error_abs <= 2].shape[0] / df.shape[0]\n",
    "    lim_3 = df[df.error_abs <= 3].shape[0] / df.shape[0]\n",
    "    lim_4 = df[df.error_abs <= 4].shape[0] / df.shape[0]\n",
    "\n",
    "    error = mean_absolute_error(df[\"count\"].to_numpy(), df[\"count_method\"].to_numpy())\n",
    "\n",
    "    print(f\"acerto = {lim_0} \\n\" +\n",
    "          f\"considerando +/- 1 = {lim_1*100}\\n\" +\n",
    "          f\"considerando +/- 2 = {lim_2*100}\\n\" +\n",
    "          f\"considerando +/- 3 = {lim_3*100}\\n\" +\n",
    "          f\"considerando +/- 4 = {lim_4*100}\\n\" +\n",
    "          f\"error (mean absolute error) = {error}\")"
   ]
  },
  {
   "attachments": {},
   "cell_type": "markdown",
   "metadata": {},
   "source": [
    "# Separar dado para 73% treinamento e 27% teste"
   ]
  },
  {
   "cell_type": "code",
   "execution_count": 2,
   "metadata": {},
   "outputs": [],
   "source": [
    "dataset = \"../image/dbe/revised_database_cut_1600.csv\"\n",
    "df = pd.read_csv(dataset)\n",
    "\n",
    "train, test = train_test_split(df)"
   ]
  },
  {
   "cell_type": "code",
   "execution_count": 3,
   "metadata": {},
   "outputs": [
    {
     "data": {
      "text/plain": [
       "((45, 2), (16, 2))"
      ]
     },
     "execution_count": 3,
     "metadata": {},
     "output_type": "execute_result"
    }
   ],
   "source": [
    "train.shape, test.shape"
   ]
  },
  {
   "cell_type": "markdown",
   "metadata": {},
   "source": [
    "# 1600 dpi"
   ]
  },
  {
   "cell_type": "code",
   "execution_count": 4,
   "metadata": {},
   "outputs": [
    {
     "data": {
      "text/plain": [
       "(0, 8, 2.1666666666666665)"
      ]
     },
     "execution_count": 4,
     "metadata": {},
     "output_type": "execute_result"
    }
   ],
   "source": [
    "image = \"../image/dbe/classify_1600\"\n",
    "search_best_parameters_df(train, image, center=True, a=0, b=50)"
   ]
  },
  {
   "cell_type": "code",
   "execution_count": 7,
   "metadata": {},
   "outputs": [],
   "source": [
    "df = result(test, image, 0, 8)"
   ]
  },
  {
   "cell_type": "code",
   "execution_count": 9,
   "metadata": {},
   "outputs": [
    {
     "name": "stdout",
     "output_type": "stream",
     "text": [
      "acerto = 0.125 \n",
      "considerando +/- 1 = 18.75\n",
      "considerando +/- 2 = 50.0\n",
      "considerando +/- 3 = 68.75\n",
      "considerando +/- 4 = 75.0\n",
      "error (mean absolute error) = 2.8125\n"
     ]
    }
   ],
   "source": [
    "show_results(df)"
   ]
  },
  {
   "attachments": {},
   "cell_type": "markdown",
   "metadata": {},
   "source": [
    "# 900 dpi"
   ]
  },
  {
   "cell_type": "code",
   "execution_count": 19,
   "metadata": {},
   "outputs": [],
   "source": [
    "image = \"../image/dbe/classify_900\""
   ]
  },
  {
   "cell_type": "code",
   "execution_count": 11,
   "metadata": {},
   "outputs": [
    {
     "data": {
      "text/plain": [
       "(0, 4, 1.5666666666666667)"
      ]
     },
     "execution_count": 11,
     "metadata": {},
     "output_type": "execute_result"
    }
   ],
   "source": [
    "search_best_parameters_df(train, image, center=True, a=0, b=50)"
   ]
  },
  {
   "cell_type": "code",
   "execution_count": 20,
   "metadata": {},
   "outputs": [],
   "source": [
    "df = result(test, image, 0, 4)"
   ]
  },
  {
   "cell_type": "code",
   "execution_count": 21,
   "metadata": {},
   "outputs": [
    {
     "name": "stdout",
     "output_type": "stream",
     "text": [
      "acerto = 0.25 \n",
      "considerando +/- 1 = 31.25\n",
      "considerando +/- 2 = 62.5\n",
      "considerando +/- 3 = 68.75\n",
      "considerando +/- 4 = 87.5\n",
      "error (mean absolute error) = 2.40625\n"
     ]
    }
   ],
   "source": [
    "show_results(df)"
   ]
  },
  {
   "attachments": {},
   "cell_type": "markdown",
   "metadata": {},
   "source": [
    "# 300 dpi"
   ]
  },
  {
   "cell_type": "code",
   "execution_count": 22,
   "metadata": {},
   "outputs": [
    {
     "data": {
      "text/plain": [
       "(0, 1, 5.333333333333333)"
      ]
     },
     "execution_count": 22,
     "metadata": {},
     "output_type": "execute_result"
    }
   ],
   "source": [
    "image = \"../image/dbe/classify_300\"\n",
    "search_best_parameters_df(train, image, center=True, a=0, b=50)"
   ]
  },
  {
   "cell_type": "code",
   "execution_count": 23,
   "metadata": {},
   "outputs": [],
   "source": [
    "df = result(test, image, 0, 1)"
   ]
  },
  {
   "cell_type": "code",
   "execution_count": 24,
   "metadata": {},
   "outputs": [
    {
     "name": "stdout",
     "output_type": "stream",
     "text": [
      "acerto = 0.125 \n",
      "considerando +/- 1 = 12.5\n",
      "considerando +/- 2 = 31.25\n",
      "considerando +/- 3 = 37.5\n",
      "considerando +/- 4 = 37.5\n",
      "error (mean absolute error) = 5.5625\n"
     ]
    }
   ],
   "source": [
    "show_results(df)"
   ]
  }
 ],
 "metadata": {
  "kernelspec": {
   "display_name": "speleothem-D0j3gjp0-py3.9",
   "language": "python",
   "name": "python3"
  },
  "language_info": {
   "codemirror_mode": {
    "name": "ipython",
    "version": 3
   },
   "file_extension": ".py",
   "mimetype": "text/x-python",
   "name": "python",
   "nbconvert_exporter": "python",
   "pygments_lexer": "ipython3",
   "version": "3.9.12"
  },
  "orig_nbformat": 4,
  "vscode": {
   "interpreter": {
    "hash": "88385cb4d3649893f5ed111600523dce48bee70e0a73c9054031d68280bb1b33"
   }
  }
 },
 "nbformat": 4,
 "nbformat_minor": 2
}
