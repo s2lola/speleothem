{
 "cells": [
  {
   "cell_type": "code",
   "execution_count": 1,
   "metadata": {},
   "outputs": [],
   "source": [
    "import cv2\n",
    "import matplotlib.pyplot as plt\n",
    "import ipywidgets as widgets\n",
    "import numpy as np\n",
    "from utils import serch_best_parameters"
   ]
  },
  {
   "cell_type": "code",
   "execution_count": 2,
   "metadata": {},
   "outputs": [],
   "source": [
    "image = \"../image/lola/speleothem-lola-small.tif\"\n",
    "count = 4"
   ]
  },
  {
   "cell_type": "code",
   "execution_count": null,
   "metadata": {},
   "outputs": [],
   "source": [
    "serch_best_parameters(image, count)"
   ]
  },
  {
   "cell_type": "code",
   "execution_count": 3,
   "metadata": {},
   "outputs": [
    {
     "data": {
      "application/vnd.jupyter.widget-view+json": {
       "model_id": "cb9e9a78981542f2b93df4551dd390ec",
       "version_major": 2,
       "version_minor": 0
      },
      "text/plain": [
       "interactive(children=(IntSlider(value=8, description='min_value', max=24, min=-8), IntSlider(value=34, descrip…"
      ]
     },
     "metadata": {},
     "output_type": "display_data"
    }
   ],
   "source": [
    "def count_edge(img):\n",
    "    counts = []\n",
    "    for x in range(img.shape[1]):\n",
    "        count = 0\n",
    "        for y in range(img.shape[0]):\n",
    "            if img[y][x] == 255:\n",
    "                count += 1\n",
    "        counts.append(count)\n",
    "\n",
    "    return np.mean(counts), np.std(counts)\n",
    "\n",
    "def outline(image_original, canny_image):\n",
    "    image_with_edge = np.zeros((image_original.shape), dtype=np.uint8)\n",
    "    for x in range(canny_image.shape[0]):\n",
    "        for y in range(canny_image.shape[1]):\n",
    "            if canny_image[x][y] == 255:\n",
    "                image_with_edge[x][y][0] = 255\n",
    "            else:\n",
    "                image_with_edge[x][y][0] = image_original[x][y][0]\n",
    "                image_with_edge[x][y][1] = image_original[x][y][1]\n",
    "                image_with_edge[x][y][2] = image_original[x][y][2]\n",
    "\n",
    "    return image_with_edge\n",
    "\n",
    "@widgets.interact\n",
    "def canny(min_value=8, max_value=34):\n",
    "    img_real = cv2.imread(image)\n",
    "    img = cv2.cvtColor(img_real, cv2.COLOR_RGB2GRAY)\n",
    "    # img = cv2.GaussianBlur(img, (3, 3), 3, 3)\n",
    "    img_canny = cv2.Canny(img, min_value, max_value)\n",
    "    kernel = np.ones((2, 2))\n",
    "    # img_dilate = cv2.dilate(img_canny, kernel, iterations=4)\n",
    "    # img_erode = cv2.erode(img_dilate, kernel, iterations=4)\n",
    "    img_plot = outline(cv2.cvtColor(img_real, cv2.COLOR_BGR2RGB), img_canny)\n",
    "    plt.imshow(img_plot)\n",
    "    print(f\"{count_edge(img_canny)}\")\n"
   ]
  },
  {
   "cell_type": "code",
   "execution_count": 8,
   "metadata": {},
   "outputs": [
    {
     "data": {
      "text/plain": [
       "True"
      ]
     },
     "execution_count": 8,
     "metadata": {},
     "output_type": "execute_result"
    }
   ],
   "source": [
    "img = cv2.imread(\"../image/lola/speleothem-lola.tif\")\n",
    "img = cv2.cvtColor(img, cv2.COLOR_RGB2GRAY)\n",
    "img = cv2.GaussianBlur(img, (3, 3), 3, 3)\n",
    "img_canny = cv2.Canny(img, 14, 24)\n",
    "cv2.imwrite(\"../image/canny/lola-canny.png\", img_canny)"
   ]
  },
  {
   "cell_type": "code",
   "execution_count": null,
   "metadata": {},
   "outputs": [],
   "source": []
  }
 ],
 "metadata": {
  "kernelspec": {
   "display_name": "speleothem-D0j3gjp0-py3.9",
   "language": "python",
   "name": "python3"
  },
  "language_info": {
   "codemirror_mode": {
    "name": "ipython",
    "version": 3
   },
   "file_extension": ".py",
   "mimetype": "text/x-python",
   "name": "python",
   "nbconvert_exporter": "python",
   "pygments_lexer": "ipython3",
   "version": "3.9.12"
  },
  "orig_nbformat": 4,
  "vscode": {
   "interpreter": {
    "hash": "88385cb4d3649893f5ed111600523dce48bee70e0a73c9054031d68280bb1b33"
   }
  }
 },
 "nbformat": 4,
 "nbformat_minor": 2
}
