{
 "cells": [
  {
   "cell_type": "code",
   "execution_count": 1,
   "metadata": {},
   "outputs": [],
   "source": [
    "import cv2\n",
    "\n",
    "image_1600 = cv2.imread(\"../image/dbe/DBE_4_1600.tif\")\n",
    "image_900 = cv2.imread(\"../image/dbe/DBE_4_900.tif\")\n",
    "image_300 = cv2.imread(\"../image/dbe/DBE_4_300.tif\")\n",
    "\n",
    "y_initial, y_final = 2700, 15300\n",
    "x_initial, x_final = 1200, 4500\n",
    "\n",
    "proportion_900_1600_y = image_900.shape[0] / image_1600.shape[0]\n",
    "proportion_900_1600_x = image_900.shape[1] / image_1600.shape[1]\n",
    "proportion_300_1600_y = image_300.shape[0] / image_1600.shape[0]\n",
    "proportion_300_1600_x = image_300.shape[1] / image_1600.shape[1]\n",
    "\n",
    "size_1600 = 256\n",
    "size_900 = round(size_1600*proportion_900_1600_y)\n",
    "size_300 = round(size_1600*proportion_300_1600_y)"
   ]
  },
  {
   "cell_type": "code",
   "execution_count": null,
   "metadata": {},
   "outputs": [],
   "source": []
  }
 ],
 "metadata": {
  "kernelspec": {
   "display_name": "speleothem-D0j3gjp0-py3.9",
   "language": "python",
   "name": "python3"
  },
  "language_info": {
   "codemirror_mode": {
    "name": "ipython",
    "version": 3
   },
   "file_extension": ".py",
   "mimetype": "text/x-python",
   "name": "python",
   "nbconvert_exporter": "python",
   "pygments_lexer": "ipython3",
   "version": "3.9.12"
  },
  "orig_nbformat": 4,
  "vscode": {
   "interpreter": {
    "hash": "88385cb4d3649893f5ed111600523dce48bee70e0a73c9054031d68280bb1b33"
   }
  }
 },
 "nbformat": 4,
 "nbformat_minor": 2
}
