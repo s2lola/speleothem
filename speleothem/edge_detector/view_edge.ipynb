{
 "cells": [
  {
   "cell_type": "code",
   "execution_count": 3,
   "metadata": {},
   "outputs": [],
   "source": [
    "import cv2\n",
    "import matplotlib.pyplot as plt\n",
    "import ipywidgets as widgets\n",
    "import numpy as np\n",
    "from utils import serch_best_parameters, count_edge"
   ]
  },
  {
   "cell_type": "code",
   "execution_count": 4,
   "metadata": {},
   "outputs": [],
   "source": [
    "image = \"../image/dbe/classify_1600/28.png\"\n",
    "count = 10"
   ]
  },
  {
   "cell_type": "code",
   "execution_count": 5,
   "metadata": {},
   "outputs": [
    {
     "data": {
      "text/plain": [
       "(9.984375, 16, 17, 0.37835716497392957)"
      ]
     },
     "execution_count": 5,
     "metadata": {},
     "output_type": "execute_result"
    }
   ],
   "source": [
    "serch_best_parameters(image, count)"
   ]
  },
  {
   "cell_type": "code",
   "execution_count": 7,
   "metadata": {},
   "outputs": [
    {
     "data": {
      "application/vnd.jupyter.widget-view+json": {
       "model_id": "08c76f11b1ab497587aa63a21a1cf0c4",
       "version_major": 2,
       "version_minor": 0
      },
      "text/plain": [
       "interactive(children=(IntSlider(value=8, description='min_value', max=24, min=-8), IntSlider(value=34, descrip…"
      ]
     },
     "metadata": {},
     "output_type": "display_data"
    }
   ],
   "source": [
    "def outline(image_original, canny_image):\n",
    "    image_with_edge = np.zeros((image_original.shape), dtype=np.uint8)\n",
    "    for x in range(canny_image.shape[0]):\n",
    "        for y in range(canny_image.shape[1]):\n",
    "            if canny_image[x][y] == 255:\n",
    "                image_with_edge[x][y][0] = 255\n",
    "            else:\n",
    "                image_with_edge[x][y][0] = image_original[x][y][0]\n",
    "                image_with_edge[x][y][1] = image_original[x][y][1]\n",
    "                image_with_edge[x][y][2] = image_original[x][y][2]\n",
    "\n",
    "    return image_with_edge\n",
    "\n",
    "@widgets.interact\n",
    "def canny(min_value=8, max_value=34):\n",
    "    img_real = cv2.imread(image)\n",
    "    img = cv2.cvtColor(img_real, cv2.COLOR_RGB2GRAY)\n",
    "    # img = cv2.GaussianBlur(img, (3, 3), 3, 3)\n",
    "    img_canny = cv2.Canny(img, min_value, max_value)\n",
    "\n",
    "    # kernel = np.ones((2, 2))\n",
    "    # img_dilate = cv2.dilate(img_canny, kernel, iterations=4)\n",
    "    # img_erode = cv2.erode(img_dilate, kernel, iterations=4)\n",
    "    \n",
    "    img_plot = outline(cv2.cvtColor(img_real, cv2.COLOR_BGR2RGB), img_canny)\n",
    "    plt.imshow(img_plot)\n",
    "    print(f\"{count_edge(img_canny)}\")\n"
   ]
  }
 ],
 "metadata": {
  "kernelspec": {
   "display_name": "speleothem-D0j3gjp0-py3.9",
   "language": "python",
   "name": "python3"
  },
  "language_info": {
   "codemirror_mode": {
    "name": "ipython",
    "version": 3
   },
   "file_extension": ".py",
   "mimetype": "text/x-python",
   "name": "python",
   "nbconvert_exporter": "python",
   "pygments_lexer": "ipython3",
   "version": "3.9.12 (main, Apr  5 2022, 06:56:58) \n[GCC 7.5.0]"
  },
  "orig_nbformat": 4,
  "vscode": {
   "interpreter": {
    "hash": "88385cb4d3649893f5ed111600523dce48bee70e0a73c9054031d68280bb1b33"
   }
  }
 },
 "nbformat": 4,
 "nbformat_minor": 2
}
